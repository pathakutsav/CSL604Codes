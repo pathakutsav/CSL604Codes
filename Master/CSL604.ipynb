{
  "nbformat": 4,
  "nbformat_minor": 0,
  "metadata": {
    "colab": {
      "name": "CSL604.ipynb",
      "provenance": [],
      "collapsed_sections": []
    },
    "kernelspec": {
      "name": "python3",
      "display_name": "Python 3"
    },
    "language_info": {
      "name": "python"
    }
  },
  "cells": [
    {
      "cell_type": "markdown",
      "source": [
        "EXP1"
      ],
      "metadata": {
        "id": "KZpa0Lpmb2nj"
      }
    },
    {
      "cell_type": "code",
      "source": [
        "import re \n",
        "tokens = [] \n",
        "input_code = 'if ( a > b ) { i = j + 2 ; else j = k - 2 ; }'.split()\n",
        "for word in input_code:\n",
        "   if word in [\"str\", \"int\", \"bool\", \"float\", \"double\", \"char\", \"long\"]:\n",
        "     tokens.append(['DATATYPE', word])\n",
        "   if word in[\"auto\",\"break\",\"case\",\"catch\",\"word\",\"class\",\"const\",\"continue\",\"delete\",\"do\",\"if\",\"else\",\"enum\",\"false\",\"for\",\"goto\",\"if\",\"#include\",\"namespace\",\"not\",\"or\",\"private\",\"protected\",\"public\",\"return\",\"short\",\"signed\",\"sizeof\",\"static\",\"struct\",\"switch\",\"true\",\"try\",\"unsigned\",\"void\",\"while\",]:\n",
        "     tokens.append(['KEYWORD', word])\n",
        "   elif re.match(\"[a-z]\", word) or re.match(\"[A-Z]\", word):\n",
        "     tokens.append(['IDENTIFIER', word])\n",
        "   elif word in ['_','`','~','!','@','#','$','^','&','\"',':',';','<','>','?']:\n",
        "     tokens.append(['NON-IDENTIFIER', word])\n",
        "   elif word in [\"+\",\"-\",\"*\",\"/\",\"%\",\"+=\",\"-=\",\"*=\",\"/=\",\"++\",\"--\",\"|\",\"&&\",]:\n",
        "     tokens.append(['OPERATOR', word])\n",
        "   elif word in [\"\\t\",\"\\n\",\"(\",\")\",\"[\",\"]\",\"{\",\"}\",\"=\",\":\",\",\",\";\",\"<<\",\">>\",]:\n",
        "     tokens.append(['DELIMITER', word])\n",
        "   elif word in ['0','1','2','3','4','5','6','7','8','9']:\n",
        "     tokens.append([\"NUMERAL\", word])\n",
        "   elif re.match(\".[0-9]\", word):\n",
        "     if word[len(word) - 1] == ';':\n",
        "       tokens.append([\"INTEGER\", word[:-1]])\n",
        "       tokens.append(['END_STATEMENT', ';'])\n",
        "   else:\n",
        "     tokens.append([\"INTEGER\", word])\n",
        "for tkn in tokens:\n",
        "  print(tkn)    "
      ],
      "metadata": {
        "colab": {
          "base_uri": "https://localhost:8080/"
        },
        "id": "tH1Q6Yz1b5Zr",
        "outputId": "013c419a-92ad-42be-8b09-a4e7e0c785bf"
      },
      "execution_count": null,
      "outputs": [
        {
          "output_type": "stream",
          "name": "stdout",
          "text": [
            "['KEYWORD', 'if']\n",
            "['DELIMITER', '(']\n",
            "['IDENTIFIER', 'a']\n",
            "['NON-IDENTIFIER', '>']\n",
            "['IDENTIFIER', 'b']\n",
            "['DELIMITER', ')']\n",
            "['DELIMITER', '{']\n",
            "['IDENTIFIER', 'i']\n",
            "['DELIMITER', '=']\n",
            "['IDENTIFIER', 'j']\n",
            "['OPERATOR', '+']\n",
            "['NUMERAL', '2']\n",
            "['NON-IDENTIFIER', ';']\n",
            "['KEYWORD', 'else']\n",
            "['IDENTIFIER', 'j']\n",
            "['DELIMITER', '=']\n",
            "['IDENTIFIER', 'k']\n",
            "['OPERATOR', '-']\n",
            "['NUMERAL', '2']\n",
            "['NON-IDENTIFIER', ';']\n",
            "['DELIMITER', '}']\n"
          ]
        }
      ]
    },
    {
      "cell_type": "markdown",
      "source": [
        "EXP2"
      ],
      "metadata": {
        "id": "-62U43WCfMmM"
      }
    },
    {
      "cell_type": "code",
      "source": [
        "tokens=['']\n",
        "iden = []\n",
        "key_words = [\"int\", \"str\", \"char\", \"float\", \"double\", \"bool\", \"long\", \"short\", \"do\", \"if\", \"else\"]\n",
        "operators = [\"+\", \"-\", \"*\", \"/\", \"=\", \"<\", \">\", \"%\", \"+=\", \"-=\", \"*=\", \"/=\", \"++\", \"--\", \"|\", \"&&\"]\n",
        "punct = [\"(\", \")\", \"{\", \"}\", \"[\", \"]\", \",\", \";\", \":\"]\n",
        "with open(\"/content/exp2file-utsavpathak.txt\") as t:\n",
        "  reader=t.readlines()\n",
        "for t in reader:\n",
        "  tokens=tokens + (t.split(\" \"))\n",
        "print(\"ID    Data_Types    Value Return_Type    N_Parameter    T_Parameter\")\n",
        "for pos, t in enumerate(tokens):\n",
        "  for word in key_words:\n",
        "    if(t==word):\n",
        "      iden.append(tokens[pos + 1])\n",
        "    if(tokens[pos + 2 ] == ','):\n",
        "      print(tokens[pos + 1] + \" \" + tokens[pos] + \" \" + \"NULL\")\n",
        "      tokens.insert(pos + 3, tokens[pos])\n",
        "    elif(tokens[pos + 2] =='('):\n",
        "      end=tokens.index(')')\n",
        "      para = tokens[pos + 3:end]\n",
        "      key_count=0;\n",
        "      pt=[]\n",
        "      for key in key_words:\n",
        "        key_count = key_count + para.count(key)\n",
        "        i=0\n",
        "      while(i < para.count(key)):\n",
        "        pt.append(key)\n",
        "        i = i + 1\n",
        "      print(tokens[pos + 1] + \" \" + tokens[pos] + \" \" + str(key_count) + \" \" + str(pt))\n",
        "    elif(tokens[pos + 1] == '('):\n",
        "      continue\n",
        "    else:\n",
        "      print(tokens[pos + 1] + \" \" + tokens[pos] + \" \" + tokens[pos + 3])"
      ],
      "metadata": {
        "colab": {
          "base_uri": "https://localhost:8080/",
          "height": 1000
        },
        "id": "LcXYB_NRfOeP",
        "outputId": "b64474da-703e-4476-acf1-838ecf8850d1"
      },
      "execution_count": null,
      "outputs": [
        {
          "output_type": "stream",
          "name": "stdout",
          "text": [
            "ID    Data_Types    Value Return_Type    N_Parameter    T_Parameter\n",
            "int  float\n",
            "int  float\n",
            "int  float\n",
            "int  float\n",
            "int  float\n",
            "int  float\n",
            "int  float\n",
            "int  float\n",
            "int  float\n",
            "int  float\n",
            "int  float\n",
            "a=10; int b=20.5;\n",
            "a=10; int b=20.5;\n",
            "a=10; int b=20.5;\n",
            "a=10; int b=20.5;\n",
            "a=10; int b=20.5;\n",
            "a=10; int b=20.5;\n",
            "a=10; int b=20.5;\n",
            "a=10; int b=20.5;\n",
            "a=10; int b=20.5;\n",
            "a=10; int b=20.5;\n",
            "a=10; int b=20.5;\n",
            "float a=10; char\n",
            "float a=10; char\n",
            "float a=10; char\n",
            "float a=10; char\n",
            "float a=10; char\n",
            "float a=10; char\n",
            "float a=10; char\n",
            "float a=10; char\n",
            "float a=10; char\n",
            "float a=10; char\n",
            "float a=10; char\n",
            "b=20.5; float c='d';\n",
            "\n",
            "b=20.5; float c='d';\n",
            "\n",
            "b=20.5; float c='d';\n",
            "\n",
            "b=20.5; float c='d';\n",
            "\n",
            "b=20.5; float c='d';\n",
            "\n",
            "b=20.5; float c='d';\n",
            "\n",
            "b=20.5; float c='d';\n",
            "\n",
            "b=20.5; float c='d';\n",
            "\n",
            "b=20.5; float c='d';\n",
            "\n",
            "b=20.5; float c='d';\n",
            "\n",
            "b=20.5; float c='d';\n",
            "\n"
          ]
        },
        {
          "output_type": "error",
          "ename": "IndexError",
          "evalue": "ignored",
          "traceback": [
            "\u001b[0;31m---------------------------------------------------------------------------\u001b[0m",
            "\u001b[0;31mIndexError\u001b[0m                                Traceback (most recent call last)",
            "\u001b[0;32m<ipython-input-31-b4172925f49d>\u001b[0m in \u001b[0;36m<module>\u001b[0;34m()\u001b[0m\n\u001b[1;32m     31\u001b[0m       \u001b[0;32mcontinue\u001b[0m\u001b[0;34m\u001b[0m\u001b[0;34m\u001b[0m\u001b[0m\n\u001b[1;32m     32\u001b[0m     \u001b[0;32melse\u001b[0m\u001b[0;34m:\u001b[0m\u001b[0;34m\u001b[0m\u001b[0;34m\u001b[0m\u001b[0m\n\u001b[0;32m---> 33\u001b[0;31m       \u001b[0mprint\u001b[0m\u001b[0;34m(\u001b[0m\u001b[0mtokens\u001b[0m\u001b[0;34m[\u001b[0m\u001b[0mpos\u001b[0m \u001b[0;34m+\u001b[0m \u001b[0;36m1\u001b[0m\u001b[0;34m]\u001b[0m \u001b[0;34m+\u001b[0m \u001b[0;34m\" \"\u001b[0m \u001b[0;34m+\u001b[0m \u001b[0mtokens\u001b[0m\u001b[0;34m[\u001b[0m\u001b[0mpos\u001b[0m\u001b[0;34m]\u001b[0m \u001b[0;34m+\u001b[0m \u001b[0;34m\" \"\u001b[0m \u001b[0;34m+\u001b[0m \u001b[0mtokens\u001b[0m\u001b[0;34m[\u001b[0m\u001b[0mpos\u001b[0m \u001b[0;34m+\u001b[0m \u001b[0;36m3\u001b[0m\u001b[0;34m]\u001b[0m\u001b[0;34m)\u001b[0m\u001b[0;34m\u001b[0m\u001b[0;34m\u001b[0m\u001b[0m\n\u001b[0m",
            "\u001b[0;31mIndexError\u001b[0m: list index out of range"
          ]
        }
      ]
    },
    {
      "cell_type": "markdown",
      "source": [
        "EXP3"
      ],
      "metadata": {
        "id": "sl88VYxEm4tY"
      }
    },
    {
      "cell_type": "code",
      "source": [
        "n_state=int(input(\"Enter The Number Of States: \"))\n",
        "state=[input(\"Enter The States: \") for i in range(0,n_state)]\n",
        "n_string=int(input(\"Enter The Number Of Strings: \"))\n",
        "strings=[input(\"Enter The Strings: \") for i in range(0,n_string)]\n",
        "f_state=input(\"Enter The Final State: \")\n",
        "k=[0 for i in range(len(state))]\n",
        "for i in range(len(state)):\n",
        "  k[i]=[0 for j in range(len(strings))]\n",
        "  for j in range(len(strings)):\n",
        "    k[i][j]=input('From ' +state[i]+ ' If String Is 3' +strings[j] +' Then Go To: ')\n",
        "def _check(x,y):\n",
        "  table.append(k[state.index(x)][strings.index(y)])\n",
        "  return k[state.index(x)][strings.index(y)]\n",
        "while True:\n",
        "  table=[]\n",
        "  start=state[0]\n",
        "  inp_str=input(\"Enter The String To Check: \")\n",
        "  for i in inp_str:\n",
        "    start= _check(start,i)\n",
        "  if table[-1]==f_state:\n",
        "    print(\"Given String Accepted!!\")\n",
        "    break\n",
        "  else:\n",
        "    print(\"Given String Not Accepted!\")"
      ],
      "metadata": {
        "id": "WOWv7iyYm6Bu",
        "colab": {
          "base_uri": "https://localhost:8080/"
        },
        "outputId": "372521b5-e43a-4bc3-f762-11665be1954b"
      },
      "execution_count": null,
      "outputs": [
        {
          "output_type": "stream",
          "name": "stdout",
          "text": [
            "Enter The Number Of States: 3\n",
            "Enter The States: 1\n",
            "Enter The States: 2\n",
            "Enter The States: 3\n",
            "Enter The Number Of Strings: 2\n",
            "Enter The Strings: a\n",
            "Enter The Strings: b\n",
            "Enter The Final State: 3\n",
            "From 1 If String Is 3a Then Go To: 2\n",
            "From 1 If String Is 3b Then Go To: 2\n",
            "From 2 If String Is 3a Then Go To: 2\n",
            "From 2 If String Is 3b Then Go To: 3\n",
            "From 3 If String Is 3a Then Go To: 2\n",
            "From 3 If String Is 3b Then Go To: 1\n",
            "Enter The String To Check: aaabbb\n",
            "Given String Not Accepted!\n",
            "Enter The String To Check: aaaabbbb\n",
            "Given String Accepted!!\n"
          ]
        }
      ]
    },
    {
      "cell_type": "markdown",
      "source": [
        "EXP4"
      ],
      "metadata": {
        "id": "l2RrquiVs2Kk"
      }
    },
    {
      "cell_type": "code",
      "source": [
        "def print_iter(Matched, Stack, Input, Action, verbose=True):\n",
        "  if verbose == True:\n",
        "    print(\".\".join(Matched).ljust(30), \" | \", \".\".join(Stack).ljust(25), \" | \", \".\".join(Input).ljust(30), \" | \", Action)\n",
        "def predictive_parsing(sentence, parsingtable, terminals, start_state=\"S\", verbose=True):\n",
        "  status = None\n",
        "  match = []\n",
        "  stack = [start_state, \"$\"]\n",
        "  Inp = sentence.split(\".\")\n",
        "  if verbose == True:\n",
        "    print_iter([\"Matched\"], [\"Stack\"], [\"Input\"], \"Action\")\n",
        "  print_iter(match, stack, Inp, \"Initial\", verbose)\n",
        "  action = []\n",
        "  while(len(sentence) > 0 and status != False):\n",
        "    top_of_input = Inp[0]\n",
        "    pos = top_of_input\n",
        "    if stack[0] == \"$\" and pos == \"$\":\n",
        "      print_iter(match, stack, Inp, \"Accepted\", verbose)\n",
        "      return \"Accepted\"\n",
        "    if stack[0] == pos:\n",
        "      print_iter(match, stack, Inp, \"Pop\", verbose)\n",
        "      match.append(stack[0])\n",
        "      del(stack[0])\n",
        "      del(Inp[0])\n",
        "      continue\n",
        "    if stack[0] == \"epsilon\":\n",
        "      print_iter(match, stack, Inp, \"Poping Epsilon\", verbose)\n",
        "      del(stack[0])\n",
        "      continue\n",
        "    try:\n",
        "      production = parsingtable[stack[0]][pos]\n",
        "      print_iter(match, stack, Inp, stack[0]+\" -> \"+production, verbose)\n",
        "    except:\n",
        "      return \"error for \"+str(stack[0])+\" on \"+str(pos), \"Not Accepted\"\n",
        "    new = production.split(\".\")\n",
        "    stack = new+stack[1:]\n",
        "  return \"Not Accepted\"\n",
        "if __name__ == \"__main__\":\n",
        "  parsingtable = {\"E\": {\"id\": \"T.E1\", \"(\": \"T.E1\"},\"E1\": {\"+\": \"+.T.E1\", \")\": \"epsilon\", \"$\": \"epsilon\"},\"T\": {\"id\": \"F.T1\", \"(\": \"F.T1\"},\"T1\": {\"+\": \"epsilon\", \"*\": \"*.F.T1\", \")\": \"epsilon\", \"$\": \"epsilon\"},\"F\": {\"id\": \"id\", \"(\": \"(.E.)\"}}\n",
        "  terminals = [\"id\", \"(\", \")\", \"+\", \"*\"]\n",
        "  print(predictive_parsing(sentence=\"id.+.(.id.+.id.).$\",parsingtable=parsingtable, terminals=terminals, start_state=\"E\", verbose=True))"
      ],
      "metadata": {
        "colab": {
          "base_uri": "https://localhost:8080/"
        },
        "id": "PgNI6w6bs37T",
        "outputId": "7e1571a8-d951-400a-82ef-9726ebc37968"
      },
      "execution_count": null,
      "outputs": [
        {
          "output_type": "stream",
          "name": "stdout",
          "text": [
            "Matched                         |  Stack                      |  Input                           |  Action\n",
            "                                |  E.$                        |  id.+.(.id.+.id.).$              |  Initial\n",
            "                                |  E.$                        |  id.+.(.id.+.id.).$              |  E -> T.E1\n",
            "                                |  T.E1.$                     |  id.+.(.id.+.id.).$              |  T -> F.T1\n",
            "                                |  F.T1.E1.$                  |  id.+.(.id.+.id.).$              |  F -> id\n",
            "                                |  id.T1.E1.$                 |  id.+.(.id.+.id.).$              |  Pop\n",
            "id                              |  T1.E1.$                    |  +.(.id.+.id.).$                 |  T1 -> epsilon\n",
            "id                              |  epsilon.E1.$               |  +.(.id.+.id.).$                 |  Poping Epsilon\n",
            "id                              |  E1.$                       |  +.(.id.+.id.).$                 |  E1 -> +.T.E1\n",
            "id                              |  +.T.E1.$                   |  +.(.id.+.id.).$                 |  Pop\n",
            "id.+                            |  T.E1.$                     |  (.id.+.id.).$                   |  T -> F.T1\n",
            "id.+                            |  F.T1.E1.$                  |  (.id.+.id.).$                   |  F -> (.E.)\n",
            "id.+                            |  (.E.).T1.E1.$              |  (.id.+.id.).$                   |  Pop\n",
            "id.+.(                          |  E.).T1.E1.$                |  id.+.id.).$                     |  E -> T.E1\n",
            "id.+.(                          |  T.E1.).T1.E1.$             |  id.+.id.).$                     |  T -> F.T1\n",
            "id.+.(                          |  F.T1.E1.).T1.E1.$          |  id.+.id.).$                     |  F -> id\n",
            "id.+.(                          |  id.T1.E1.).T1.E1.$         |  id.+.id.).$                     |  Pop\n",
            "id.+.(.id                       |  T1.E1.).T1.E1.$            |  +.id.).$                        |  T1 -> epsilon\n",
            "id.+.(.id                       |  epsilon.E1.).T1.E1.$       |  +.id.).$                        |  Poping Epsilon\n",
            "id.+.(.id                       |  E1.).T1.E1.$               |  +.id.).$                        |  E1 -> +.T.E1\n",
            "id.+.(.id                       |  +.T.E1.).T1.E1.$           |  +.id.).$                        |  Pop\n",
            "id.+.(.id.+                     |  T.E1.).T1.E1.$             |  id.).$                          |  T -> F.T1\n",
            "id.+.(.id.+                     |  F.T1.E1.).T1.E1.$          |  id.).$                          |  F -> id\n",
            "id.+.(.id.+                     |  id.T1.E1.).T1.E1.$         |  id.).$                          |  Pop\n",
            "id.+.(.id.+.id                  |  T1.E1.).T1.E1.$            |  ).$                             |  T1 -> epsilon\n",
            "id.+.(.id.+.id                  |  epsilon.E1.).T1.E1.$       |  ).$                             |  Poping Epsilon\n",
            "id.+.(.id.+.id                  |  E1.).T1.E1.$               |  ).$                             |  E1 -> epsilon\n",
            "id.+.(.id.+.id                  |  epsilon.).T1.E1.$          |  ).$                             |  Poping Epsilon\n",
            "id.+.(.id.+.id                  |  ).T1.E1.$                  |  ).$                             |  Pop\n",
            "id.+.(.id.+.id.)                |  T1.E1.$                    |  $                               |  T1 -> epsilon\n",
            "id.+.(.id.+.id.)                |  epsilon.E1.$               |  $                               |  Poping Epsilon\n",
            "id.+.(.id.+.id.)                |  E1.$                       |  $                               |  E1 -> epsilon\n",
            "id.+.(.id.+.id.)                |  epsilon.$                  |  $                               |  Poping Epsilon\n",
            "id.+.(.id.+.id.)                |  $                          |  $                               |  Accepted\n",
            "Accepted\n"
          ]
        }
      ]
    },
    {
      "cell_type": "markdown",
      "source": [
        "EXP5"
      ],
      "metadata": {
        "id": "7_LMKY1Qy_JC"
      }
    },
    {
      "cell_type": "code",
      "source": [
        "%{\n",
        "#include<stdio.h>\n",
        "%}\n",
        "%%\n",
        "[0-9]+[.][0-9]+ printf(\"%s is a floating point number\\n\",yytext);\n",
        "int|float|char|double|void printf(\"%s is a datatype\\n\",yytext);\n",
        "[0-9]+ printf(\"%s is an integer number\\n\",yytext);\n",
        "[a-z]+[()] printf(\"%s is a function\\n\",yytext);\n",
        "[a-z]+ printf(\"%s is an identifier\\n\",yytext);\n",
        "[+=*/-] printf(\"%s is an operator\\n\",yytext);\n",
        "; printf(\"%s is an delimiter\\n\",yytext);\n",
        ", printf(\"%s is a separator\\n\",yytext);\n",
        "[#][a-z\\.h]+ printf(\"%s is a preprocessor\\n\",yytext);\n",
        "%%\n",
        "int yywrap(void)\n",
        "{\n",
        " return 1;\n",
        "}\n",
        "int main(void)\n",
        "{\n",
        "yylex();\n",
        "return 0;\n",
        "}"
      ],
      "metadata": {
        "colab": {
          "base_uri": "https://localhost:8080/",
          "height": 133
        },
        "id": "AHBMz5I8zAKX",
        "outputId": "cb063559-c593-47da-aa82-029e38356f40"
      },
      "execution_count": null,
      "outputs": [
        {
          "output_type": "error",
          "ename": "SyntaxError",
          "evalue": "ignored",
          "traceback": [
            "\u001b[0;36m  File \u001b[0;32m\"<ipython-input-41-a98eb0873b8d>\"\u001b[0;36m, line \u001b[0;32m4\u001b[0m\n\u001b[0;31m    %%\u001b[0m\n\u001b[0m    ^\u001b[0m\n\u001b[0;31mSyntaxError\u001b[0m\u001b[0;31m:\u001b[0m invalid syntax\n"
          ]
        }
      ]
    },
    {
      "cell_type": "code",
      "source": [
        "%{\n",
        "#include<stdio.h>\n",
        "int vc=0;\n",
        "int cc=0;\n",
        "%}\n",
        "%%\n",
        "[aeiouAEIOU] vc++;\n",
        "[a-zA-Z] cc++;\n",
        "%%\n",
        "int yywrap(void)\n",
        "{\n",
        "}\n",
        "int main()\n",
        "{\n",
        "printf(\"Enter the string of vowels and consonants:\");\n",
        "yylex();\n",
        "printf(\"Number of vowels are:  %d\\n\", vc);\n",
        "printf(\"Number of consonants are:  %d\\n\", cc);\n",
        "return 0;\n",
        "}"
      ],
      "metadata": {
        "id": "EBU_yKfq3GCq"
      },
      "execution_count": null,
      "outputs": []
    },
    {
      "cell_type": "code",
      "source": [
        "%{\n",
        "#include<stdio.h>\n",
        "#include<string.h>\n",
        "int i = 0;\n",
        "%}\n",
        "%%\n",
        "([a-zA-Z0-9])* i++;\n",
        "\"\\n\" {printf(\"%d\\n\", i); i = 0;}\n",
        "%%\n",
        "int yywrap(void)\n",
        "{\n",
        "}\n",
        "int main()\n",
        "{\n",
        "yylex();\n",
        "return 0;\n",
        "}\n"
      ],
      "metadata": {
        "id": "vNqIWL1_3VW1"
      },
      "execution_count": null,
      "outputs": []
    },
    {
      "cell_type": "code",
      "source": [
        "%{\n",
        "#include<stdio.h>\n",
        "int uc=0,lc=0,digit=0;\n",
        "%}\n",
        "%%\n",
        "[A-Z] uc++;\n",
        "[a-z] lc++;\n",
        "[0-9] digit++;\n",
        "%%\n",
        "int main(void)\n",
        "{\n",
        "yylex();\n",
        "printf(\"\\n\\t%d Uppercase Letters\",uc);\n",
        "printf(\"\\n\\t%d Lowercase Letters\",lc);\n",
        "printf(\"\\n\\t%d Digits\",digit);\n",
        "}\n",
        "int yywrap()\n",
        "{\n",
        "return(1);\n",
        "}\n"
      ],
      "metadata": {
        "id": "up1lo3OuTjpP"
      },
      "execution_count": null,
      "outputs": []
    },
    {
      "cell_type": "markdown",
      "source": [
        "EXP6"
      ],
      "metadata": {
        "id": "TuBB1Ov50LX9"
      }
    },
    {
      "cell_type": "code",
      "source": [
        "%{\n",
        "#include<math.h>\n",
        "#include<stdio.h>\n",
        "#include<ctype.h>\n",
        "#define YYSTYPE double\n",
        "%}\n",
        "%%\n",
        "input :\n",
        "| input line\n",
        ";\n",
        "line : '\\n'\n",
        "| expr '\\n' {printf(\"Result is %g\",$1);} ;\n",
        "expr :expr '+' term {$$=$1+$3;} | expr '-' term {$$=$1-$3;}\n",
        "| term {$$=$1;}\n",
        ";\n",
        "term : term '*' factor {$$=$1*$3;} | term '/' factor {$$=$1/$3;} | factor {$$=$1;}\n",
        ";\n",
        "factor : NUM {$$=$1;}\n",
        ";\n",
        "NUM : digit {$$=$1;} | NUM digit {$$=$1*10+$2;} ; \n",
        "digit : '0' {$$=0;} | '1' {$$=1;} | '2' {$$=2;} | '3' {$$=3;} | '4' {$$=4;}| '5' {$$=5;} | '6' {$$=6;} | '7' {$$=7;} | '8' {$$=8;} | '9' {$$=9;};\n",
        "%%\n",
        "yylex()\n",
        "{\n",
        "return getchar();\n",
        "}\n",
        "main()\n",
        "{\n",
        "return yyparse();\n",
        "}\n",
        "void yyerror(char *s)\n",
        "{\n",
        "printf(\"%s\",s);\n",
        "}"
      ],
      "metadata": {
        "id": "3JWTivL20MXe"
      },
      "execution_count": null,
      "outputs": []
    },
    {
      "cell_type": "markdown",
      "source": [
        "EXP7"
      ],
      "metadata": {
        "id": "Gb1nP6_oYmj4"
      }
    },
    {
      "cell_type": "code",
      "source": [
        "#include<stdio.h>\n",
        "#include<stdlib.h>\n",
        "#include<string.h>\n",
        "\n",
        "int z = 0, i = 0, j = 0, c = 0;\n",
        "\n",
        "char a[16], ac[20], stk[15], act[10];\n",
        "\n",
        "void check()\n",
        "{\n",
        "\tstrcpy(ac,\"REDUCE TO E -> \");\n",
        "\tfor(z = 0; z < c; z++)\n",
        "\t{\n",
        "\t\tif(stk[z] == '4')\n",
        "\t\t{\n",
        "\t\t\tprintf(\"%s4\", ac);\n",
        "\t\t\tstk[z] = 'E';\n",
        "\t\t\tstk[z + 1] = '\\0';\n",
        "\t\t\tprintf(\"\\n$%s\\t%s$\\t\", stk, a);\n",
        "\t\t}\n",
        "\t}\n",
        "\t\t\n",
        "\tfor(z = 0; z < c - 2; z++)\n",
        "\t{\n",
        "\t\tif(stk[z] == '2' && stk[z + 1] == 'E' && stk[z + 2] == '2')\n",
        "\t\t{\n",
        "\t\t\tprintf(\"%s2E2\", ac);\n",
        "\t\t\tstk[z] = 'E';\n",
        "\t\t\tstk[z + 1] = '\\0';\n",
        "\t\t\tstk[z + 2] = '\\0';\n",
        "\t\t\tprintf(\"\\n$%s\\t%s$\\t\", stk, a);\n",
        "\t\t\ti = i - 2;\n",
        "\t\t}\n",
        "\t}\n",
        "\n",
        "\tfor(z=0; z<c-2; z++)\n",
        "\t{\n",
        "\t\tif(stk[z] == '3' && stk[z + 1] == 'E' && stk[z + 2] == '3')\n",
        "\t\t{\n",
        "\t\t\tprintf(\"%s3E3\", ac);\n",
        "\t\t\tstk[z]='E';\n",
        "\t\t\tstk[z + 1]='\\0';\n",
        "\t\t\tstk[z + 1]='\\0';\n",
        "\t\t\tprintf(\"\\n$%s\\t%s$\\t\", stk, a);\n",
        "\t\t\ti = i - 2;\n",
        "\t\t}\n",
        "\t}\n",
        "\treturn ;\n",
        "}\n",
        "int main()\n",
        "{\n",
        "\tprintf(\"GRAMMAR is -\\nE->2E2 \\nE->3E3 \\nE->4\\n\");\n",
        "\tstrcpy(a,\"32423\");\n",
        "\tc=strlen(a);\n",
        "\tstrcpy(act,\"SHIFT\");\n",
        "\tprintf(\"\\nstack \\t input \\t action\");\n",
        "\tprintf(\"\\n$\\t%s$\\t\", a);\n",
        "\tfor(i = 0; j < c; i++, j++)\n",
        "\t{\n",
        "\t\tprintf(\"%s\", act);\n",
        "\t\tstk[i] = a[j];\t\n",
        "\t\tstk[i + 1] = '\\0';\n",
        "\t\ta[j]=' ';\n",
        "\t\tprintf(\"\\n$%s\\t%s$\\t\", stk, a);\n",
        "\t\tcheck();\n",
        "\t}\n",
        "\tcheck();\n",
        "\tif(stk[0] == 'E' && stk[1] == '\\0')\n",
        "\t\tprintf(\"Accept\\n\");\n",
        "\telse\n",
        "\t\tprintf(\"Reject\\n\");\n",
        "}"
      ],
      "metadata": {
        "id": "AcY0AP13YosF"
      },
      "execution_count": null,
      "outputs": []
    },
    {
      "cell_type": "markdown",
      "source": [
        "EXP8"
      ],
      "metadata": {
        "id": "c8iPl8Jvjjhd"
      }
    },
    {
      "cell_type": "code",
      "source": [
        "import nltk\n",
        "nltk.download('punkt')\n",
        "from nltk.parse import ShiftReduceParser\n",
        "\n",
        "grammar = nltk.CFG.fromstring(\"\"\"\n",
        "\n",
        "S -> NP VP\n",
        "NP -> PropN | N PP | Det N\n",
        "VP -> V NP | V S | VP PP | NP PP\n",
        "PP -> P NP \n",
        "PropN -> 'He'| 'Utsav'\n",
        "Det -> 'some' | 'the'\n",
        "N -> 'compilerdesign' | 'programming'\n",
        "V -> 'eats' | 'studies'\n",
        "P -> 'and' | 'in' | 'is'\n",
        "\n",
        "\"\"\")\n",
        "\n",
        "sr = ShiftReduceParser(grammar)\n",
        "sentence1 = 'Utsav studies compilerdesign and some programming'\n",
        "tokens = nltk.word_tokenize(sentence1)\n",
        "for x in sr.parse(tokens):\n",
        "    print(x)"
      ],
      "metadata": {
        "colab": {
          "base_uri": "https://localhost:8080/"
        },
        "id": "UJOOurQqcYRs",
        "outputId": "abd04257-d98b-44ae-e516-2251c172e16b"
      },
      "execution_count": null,
      "outputs": [
        {
          "output_type": "stream",
          "name": "stdout",
          "text": [
            "[nltk_data] Downloading package punkt to /root/nltk_data...\n",
            "[nltk_data]   Unzipping tokenizers/punkt.zip.\n",
            "(S\n",
            "  (NP (PropN Utsav))\n",
            "  (VP\n",
            "    (V studies)\n",
            "    (NP\n",
            "      (N compilerdesign)\n",
            "      (PP (P and) (NP (Det some) (N programming))))))\n"
          ]
        }
      ]
    },
    {
      "cell_type": "markdown",
      "source": [
        "EXP9"
      ],
      "metadata": {
        "id": "kteD-PJScZTi"
      }
    },
    {
      "cell_type": "code",
      "source": [
        "import re\n",
        "j = 1\n",
        "y = []\n",
        "op = ['+', '-', '/', '*']\n",
        "x = input(\"ENTER THE EXPRESSION : \")\n",
        "m = re.split('([+-/*])', x)\n",
        "def comp(m, j):\n",
        "  for word in m:\n",
        "    if word in op:\n",
        "      y.append(''.join(m[0:3]))\n",
        "      m.pop(0)\n",
        "      m.pop(0)\n",
        "      m[0] = 't'+str(j)\n",
        "      j += 1\n",
        "  return m, j\n",
        "while len(m) > 1:\n",
        "  m, j = comp(m, j)\n",
        "k = len(y)\n",
        "y.reverse()\n",
        "for i in range(0, len(y)):\n",
        "  print('t'+str(k)+'='+y[i])\n",
        "  k -= 1  "
      ],
      "metadata": {
        "colab": {
          "base_uri": "https://localhost:8080/"
        },
        "id": "rnxmkWy1jndz",
        "outputId": "9202a0a9-1c6e-46b6-e9fe-cec7df4f5c4f"
      },
      "execution_count": null,
      "outputs": [
        {
          "output_type": "stream",
          "name": "stdout",
          "text": [
            "ENTER THE EXPRESSION : a+b-c-d\n",
            "t3=t2-d\n",
            "t2=t1-c\n",
            "t1=a+b\n"
          ]
        }
      ]
    },
    {
      "cell_type": "code",
      "source": [
        "import re\n",
        "j = 1\n",
        "y = []\n",
        "op = ['+', '-', '/', '*']\n",
        "x = input(\"ENTER THE EXPRESSION : \")\n",
        "m = re.split('([+-/*])', x)\n",
        "def comp(m, j):\n",
        "  for word in m:\n",
        "    if word in op:\n",
        "      y.append(''.join(m[0:3]))\n",
        "      m.pop(0)\n",
        "      m.pop(0)\n",
        "      m[0] = 't'+str(j)\n",
        "      j += 1\n",
        "  return m, j\n",
        "while len(m) > 1:\n",
        "  m, j = comp(m, j)\n",
        "k = len(y)\n",
        "y.reverse()\n",
        "for i in range(0, len(y)):\n",
        "  print('t'+str(k)+'='+y[i])\n",
        "  k -= 1"
      ],
      "metadata": {
        "colab": {
          "base_uri": "https://localhost:8080/"
        },
        "id": "mGiIv617kow_",
        "outputId": "f0739d7c-42b8-4d4b-ccd7-28b786aaac02"
      },
      "execution_count": null,
      "outputs": [
        {
          "output_type": "stream",
          "name": "stdout",
          "text": [
            "ENTER THE EXPRESSION : position=initial+rate*60\n",
            "t2=t1*60\n",
            "t1=position=initial+rate\n"
          ]
        }
      ]
    },
    {
      "cell_type": "markdown",
      "source": [
        "EXP10"
      ],
      "metadata": {
        "id": "Nr921MuAoR_w"
      }
    },
    {
      "cell_type": "code",
      "source": [
        "#include <stdio.h>\n",
        "#include <string.h>\n",
        "int main()\n",
        "{\n",
        "char icode[10][30], str[20], opr[10];\n",
        "int i = 0;\n",
        "printf(\"\\nEnter Set Of Intermediate Code:\\n\");\n",
        "do\n",
        "{\n",
        "scanf(\"%s\", icode[i]);\n",
        "} while (strcmp(icode[i++], \"exit\") != 0);\n",
        "printf(\"\\nTarget Code Generation\");\n",
        "printf(\"\\n*******************\");\n",
        "i = 0;\n",
        "do\n",
        "{\n",
        "strcpy(str, icode[i]);\n",
        "switch (str[3])\n",
        "{\n",
        "case '+':\n",
        "strcpy(opr, \"ADD\");\n",
        "break;\n",
        "case '-':\n",
        "strcpy(opr, \"SUB\");\n",
        "break;\n",
        "case '*':\n",
        "strcpy(opr, \"MUL\");\n",
        "break;\n",
        "case '/':\n",
        "strcpy(opr, \"DIV\");\n",
        "break;\n",
        "}\n",
        "printf(\"\\n\\tMov %c,R%d\", str[2], i);\n",
        "printf(\"\\n\\%s%c,,R%d\", opr, str[4], i);\n",
        "printf(\"\\n\\tMov R%d%c\", i, str[0]);\n",
        "} while (strcmp(icode[++i], \"exit\") != 0);\n",
        "return 1;\n",
        "}\n"
      ],
      "metadata": {
        "id": "1mCp6bN5oTFU"
      },
      "execution_count": null,
      "outputs": []
    }
  ]
}